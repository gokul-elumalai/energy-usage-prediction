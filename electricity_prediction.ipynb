{
 "cells": [
  {
   "cell_type": "markdown",
   "metadata": {},
   "source": [
    "# Harnessing Machine Learning to Optimize Future Energy Usage"
   ]
  },
  {
   "cell_type": "markdown",
   "metadata": {},
   "source": [
    "## Objective\n",
    "\n",
    "The objective of this project is to develop and train machine learning models that utilize historical energy usage data to predict future energy consumption patterns accurately. By leveraging these predictions, consumers will be empowered to make informed and strategic decisions that can significantly reduce operational costs while also minimizing the environmental impact associated with energy generation and consumption. "
   ]
  },
  {
   "cell_type": "code",
   "execution_count": 1,
   "metadata": {},
   "outputs": [],
   "source": [
    "# let's import necessary libraries\n",
    "import numpy as np\n",
    "import pandas as pd\n",
    "import matplotlib.pyplot as plt\n",
    "import seaborn as sns\n",
    "import datetime\n",
    "\n",
    "%config Inlinebackground.figureFormat='retina'\n",
    "sns.set(font_scale=1.5)\n",
    "pd.options.display.max_rows = 200\n",
    "pd.options.display.max_columns = 200"
   ]
  },
  {
   "cell_type": "code",
   "execution_count": 2,
   "metadata": {},
   "outputs": [],
   "source": [
    "# load energy data\n",
    "energy_data = pd.read_csv(r'dataset/daily_dataset.csv', encoding='utf-8')\n",
    "\n",
    "# load weather data\n",
    "weather_data = pd.read_csv(r'dataset/weather_daily_darksky.csv', encoding='utf-8')\n",
    "\n",
    "# demographic details\n",
    "demographic_data = pd.read_csv(r'dataset/informations_households.csv', encoding='utf-8')\n",
    "\n",
    "# holiday data\n",
    "holiday_data = pd.read_csv(r'dataset/uk_bank_holidays.csv', encoding='utf-8')"
   ]
  },
  {
   "cell_type": "code",
   "execution_count": 4,
   "metadata": {},
   "outputs": [
    {
     "data": {
      "text/html": [
       "<div>\n",
       "<style scoped>\n",
       "    .dataframe tbody tr th:only-of-type {\n",
       "        vertical-align: middle;\n",
       "    }\n",
       "\n",
       "    .dataframe tbody tr th {\n",
       "        vertical-align: top;\n",
       "    }\n",
       "\n",
       "    .dataframe thead th {\n",
       "        text-align: right;\n",
       "    }\n",
       "</style>\n",
       "<table border=\"1\" class=\"dataframe\">\n",
       "  <thead>\n",
       "    <tr style=\"text-align: right;\">\n",
       "      <th></th>\n",
       "      <th>LCLid</th>\n",
       "      <th>day</th>\n",
       "      <th>energy_median</th>\n",
       "      <th>energy_mean</th>\n",
       "      <th>energy_max</th>\n",
       "      <th>energy_count</th>\n",
       "      <th>energy_std</th>\n",
       "      <th>energy_sum</th>\n",
       "      <th>energy_min</th>\n",
       "    </tr>\n",
       "  </thead>\n",
       "  <tbody>\n",
       "    <tr>\n",
       "      <th>0</th>\n",
       "      <td>MAC000131</td>\n",
       "      <td>2011-12-15</td>\n",
       "      <td>0.4850</td>\n",
       "      <td>0.432045</td>\n",
       "      <td>0.868</td>\n",
       "      <td>22</td>\n",
       "      <td>0.239146</td>\n",
       "      <td>9.505</td>\n",
       "      <td>0.072</td>\n",
       "    </tr>\n",
       "    <tr>\n",
       "      <th>1</th>\n",
       "      <td>MAC000131</td>\n",
       "      <td>2011-12-16</td>\n",
       "      <td>0.1415</td>\n",
       "      <td>0.296167</td>\n",
       "      <td>1.116</td>\n",
       "      <td>48</td>\n",
       "      <td>0.281471</td>\n",
       "      <td>14.216</td>\n",
       "      <td>0.031</td>\n",
       "    </tr>\n",
       "    <tr>\n",
       "      <th>2</th>\n",
       "      <td>MAC000131</td>\n",
       "      <td>2011-12-17</td>\n",
       "      <td>0.1015</td>\n",
       "      <td>0.189812</td>\n",
       "      <td>0.685</td>\n",
       "      <td>48</td>\n",
       "      <td>0.188405</td>\n",
       "      <td>9.111</td>\n",
       "      <td>0.064</td>\n",
       "    </tr>\n",
       "  </tbody>\n",
       "</table>\n",
       "</div>"
      ],
      "text/plain": [
       "       LCLid         day  energy_median  energy_mean  energy_max  \\\n",
       "0  MAC000131  2011-12-15         0.4850     0.432045       0.868   \n",
       "1  MAC000131  2011-12-16         0.1415     0.296167       1.116   \n",
       "2  MAC000131  2011-12-17         0.1015     0.189812       0.685   \n",
       "\n",
       "   energy_count  energy_std  energy_sum  energy_min  \n",
       "0            22    0.239146       9.505       0.072  \n",
       "1            48    0.281471      14.216       0.031  \n",
       "2            48    0.188405       9.111       0.064  "
      ]
     },
     "execution_count": 4,
     "metadata": {},
     "output_type": "execute_result"
    }
   ],
   "source": [
    "energy_data.head(3)"
   ]
  },
  {
   "cell_type": "code",
   "execution_count": 5,
   "metadata": {},
   "outputs": [
    {
     "data": {
      "text/html": [
       "<div>\n",
       "<style scoped>\n",
       "    .dataframe tbody tr th:only-of-type {\n",
       "        vertical-align: middle;\n",
       "    }\n",
       "\n",
       "    .dataframe tbody tr th {\n",
       "        vertical-align: top;\n",
       "    }\n",
       "\n",
       "    .dataframe thead th {\n",
       "        text-align: right;\n",
       "    }\n",
       "</style>\n",
       "<table border=\"1\" class=\"dataframe\">\n",
       "  <thead>\n",
       "    <tr style=\"text-align: right;\">\n",
       "      <th></th>\n",
       "      <th>temperatureMax</th>\n",
       "      <th>temperatureMaxTime</th>\n",
       "      <th>windBearing</th>\n",
       "      <th>icon</th>\n",
       "      <th>dewPoint</th>\n",
       "      <th>temperatureMinTime</th>\n",
       "      <th>cloudCover</th>\n",
       "      <th>windSpeed</th>\n",
       "      <th>pressure</th>\n",
       "      <th>apparentTemperatureMinTime</th>\n",
       "      <th>apparentTemperatureHigh</th>\n",
       "      <th>precipType</th>\n",
       "      <th>visibility</th>\n",
       "      <th>humidity</th>\n",
       "      <th>apparentTemperatureHighTime</th>\n",
       "      <th>apparentTemperatureLow</th>\n",
       "      <th>apparentTemperatureMax</th>\n",
       "      <th>uvIndex</th>\n",
       "      <th>time</th>\n",
       "      <th>sunsetTime</th>\n",
       "      <th>temperatureLow</th>\n",
       "      <th>temperatureMin</th>\n",
       "      <th>temperatureHigh</th>\n",
       "      <th>sunriseTime</th>\n",
       "      <th>temperatureHighTime</th>\n",
       "      <th>uvIndexTime</th>\n",
       "      <th>summary</th>\n",
       "      <th>temperatureLowTime</th>\n",
       "      <th>apparentTemperatureMin</th>\n",
       "      <th>apparentTemperatureMaxTime</th>\n",
       "      <th>apparentTemperatureLowTime</th>\n",
       "      <th>moonPhase</th>\n",
       "    </tr>\n",
       "  </thead>\n",
       "  <tbody>\n",
       "    <tr>\n",
       "      <th>0</th>\n",
       "      <td>11.96</td>\n",
       "      <td>2011-11-11 23:00:00</td>\n",
       "      <td>123</td>\n",
       "      <td>fog</td>\n",
       "      <td>9.40</td>\n",
       "      <td>2011-11-11 07:00:00</td>\n",
       "      <td>0.79</td>\n",
       "      <td>3.88</td>\n",
       "      <td>1016.08</td>\n",
       "      <td>2011-11-11 07:00:00</td>\n",
       "      <td>10.87</td>\n",
       "      <td>rain</td>\n",
       "      <td>3.30</td>\n",
       "      <td>0.95</td>\n",
       "      <td>2011-11-11 19:00:00</td>\n",
       "      <td>10.87</td>\n",
       "      <td>11.96</td>\n",
       "      <td>1.0</td>\n",
       "      <td>2011-11-11 00:00:00</td>\n",
       "      <td>2011-11-11 16:19:21</td>\n",
       "      <td>10.87</td>\n",
       "      <td>8.85</td>\n",
       "      <td>10.87</td>\n",
       "      <td>2011-11-11 07:12:14</td>\n",
       "      <td>2011-11-11 19:00:00</td>\n",
       "      <td>2011-11-11 11:00:00</td>\n",
       "      <td>Foggy until afternoon.</td>\n",
       "      <td>2011-11-11 19:00:00</td>\n",
       "      <td>6.48</td>\n",
       "      <td>2011-11-11 23:00:00</td>\n",
       "      <td>2011-11-11 19:00:00</td>\n",
       "      <td>0.52</td>\n",
       "    </tr>\n",
       "    <tr>\n",
       "      <th>1</th>\n",
       "      <td>8.59</td>\n",
       "      <td>2011-12-11 14:00:00</td>\n",
       "      <td>198</td>\n",
       "      <td>partly-cloudy-day</td>\n",
       "      <td>4.49</td>\n",
       "      <td>2011-12-11 01:00:00</td>\n",
       "      <td>0.56</td>\n",
       "      <td>3.94</td>\n",
       "      <td>1007.71</td>\n",
       "      <td>2011-12-11 02:00:00</td>\n",
       "      <td>5.62</td>\n",
       "      <td>rain</td>\n",
       "      <td>12.09</td>\n",
       "      <td>0.88</td>\n",
       "      <td>2011-12-11 19:00:00</td>\n",
       "      <td>-0.64</td>\n",
       "      <td>5.72</td>\n",
       "      <td>1.0</td>\n",
       "      <td>2011-12-11 00:00:00</td>\n",
       "      <td>2011-12-11 15:52:53</td>\n",
       "      <td>3.09</td>\n",
       "      <td>2.48</td>\n",
       "      <td>8.59</td>\n",
       "      <td>2011-12-11 07:57:02</td>\n",
       "      <td>2011-12-11 14:00:00</td>\n",
       "      <td>2011-12-11 12:00:00</td>\n",
       "      <td>Partly cloudy throughout the day.</td>\n",
       "      <td>2011-12-12 07:00:00</td>\n",
       "      <td>0.11</td>\n",
       "      <td>2011-12-11 20:00:00</td>\n",
       "      <td>2011-12-12 08:00:00</td>\n",
       "      <td>0.53</td>\n",
       "    </tr>\n",
       "    <tr>\n",
       "      <th>2</th>\n",
       "      <td>10.33</td>\n",
       "      <td>2011-12-27 02:00:00</td>\n",
       "      <td>225</td>\n",
       "      <td>partly-cloudy-day</td>\n",
       "      <td>5.47</td>\n",
       "      <td>2011-12-27 23:00:00</td>\n",
       "      <td>0.85</td>\n",
       "      <td>3.54</td>\n",
       "      <td>1032.76</td>\n",
       "      <td>2011-12-27 22:00:00</td>\n",
       "      <td>10.33</td>\n",
       "      <td>rain</td>\n",
       "      <td>13.39</td>\n",
       "      <td>0.74</td>\n",
       "      <td>2011-12-27 14:00:00</td>\n",
       "      <td>5.52</td>\n",
       "      <td>10.33</td>\n",
       "      <td>0.0</td>\n",
       "      <td>2011-12-27 00:00:00</td>\n",
       "      <td>2011-12-27 15:57:56</td>\n",
       "      <td>8.03</td>\n",
       "      <td>8.03</td>\n",
       "      <td>10.33</td>\n",
       "      <td>2011-12-27 08:07:06</td>\n",
       "      <td>2011-12-27 14:00:00</td>\n",
       "      <td>2011-12-27 00:00:00</td>\n",
       "      <td>Mostly cloudy throughout the day.</td>\n",
       "      <td>2011-12-27 23:00:00</td>\n",
       "      <td>5.59</td>\n",
       "      <td>2011-12-27 02:00:00</td>\n",
       "      <td>2011-12-28 00:00:00</td>\n",
       "      <td>0.10</td>\n",
       "    </tr>\n",
       "  </tbody>\n",
       "</table>\n",
       "</div>"
      ],
      "text/plain": [
       "   temperatureMax   temperatureMaxTime  windBearing               icon  \\\n",
       "0           11.96  2011-11-11 23:00:00          123                fog   \n",
       "1            8.59  2011-12-11 14:00:00          198  partly-cloudy-day   \n",
       "2           10.33  2011-12-27 02:00:00          225  partly-cloudy-day   \n",
       "\n",
       "   dewPoint   temperatureMinTime  cloudCover  windSpeed  pressure  \\\n",
       "0      9.40  2011-11-11 07:00:00        0.79       3.88   1016.08   \n",
       "1      4.49  2011-12-11 01:00:00        0.56       3.94   1007.71   \n",
       "2      5.47  2011-12-27 23:00:00        0.85       3.54   1032.76   \n",
       "\n",
       "  apparentTemperatureMinTime  apparentTemperatureHigh precipType  visibility  \\\n",
       "0        2011-11-11 07:00:00                    10.87       rain        3.30   \n",
       "1        2011-12-11 02:00:00                     5.62       rain       12.09   \n",
       "2        2011-12-27 22:00:00                    10.33       rain       13.39   \n",
       "\n",
       "   humidity apparentTemperatureHighTime  apparentTemperatureLow  \\\n",
       "0      0.95         2011-11-11 19:00:00                   10.87   \n",
       "1      0.88         2011-12-11 19:00:00                   -0.64   \n",
       "2      0.74         2011-12-27 14:00:00                    5.52   \n",
       "\n",
       "   apparentTemperatureMax  uvIndex                 time           sunsetTime  \\\n",
       "0                   11.96      1.0  2011-11-11 00:00:00  2011-11-11 16:19:21   \n",
       "1                    5.72      1.0  2011-12-11 00:00:00  2011-12-11 15:52:53   \n",
       "2                   10.33      0.0  2011-12-27 00:00:00  2011-12-27 15:57:56   \n",
       "\n",
       "   temperatureLow  temperatureMin  temperatureHigh          sunriseTime  \\\n",
       "0           10.87            8.85            10.87  2011-11-11 07:12:14   \n",
       "1            3.09            2.48             8.59  2011-12-11 07:57:02   \n",
       "2            8.03            8.03            10.33  2011-12-27 08:07:06   \n",
       "\n",
       "   temperatureHighTime          uvIndexTime  \\\n",
       "0  2011-11-11 19:00:00  2011-11-11 11:00:00   \n",
       "1  2011-12-11 14:00:00  2011-12-11 12:00:00   \n",
       "2  2011-12-27 14:00:00  2011-12-27 00:00:00   \n",
       "\n",
       "                             summary   temperatureLowTime  \\\n",
       "0             Foggy until afternoon.  2011-11-11 19:00:00   \n",
       "1  Partly cloudy throughout the day.  2011-12-12 07:00:00   \n",
       "2  Mostly cloudy throughout the day.  2011-12-27 23:00:00   \n",
       "\n",
       "   apparentTemperatureMin apparentTemperatureMaxTime  \\\n",
       "0                    6.48        2011-11-11 23:00:00   \n",
       "1                    0.11        2011-12-11 20:00:00   \n",
       "2                    5.59        2011-12-27 02:00:00   \n",
       "\n",
       "  apparentTemperatureLowTime  moonPhase  \n",
       "0        2011-11-11 19:00:00       0.52  \n",
       "1        2011-12-12 08:00:00       0.53  \n",
       "2        2011-12-28 00:00:00       0.10  "
      ]
     },
     "execution_count": 5,
     "metadata": {},
     "output_type": "execute_result"
    }
   ],
   "source": [
    "weather_data.head(3)"
   ]
  },
  {
   "cell_type": "code",
   "execution_count": 6,
   "metadata": {},
   "outputs": [
    {
     "data": {
      "text/html": [
       "<div>\n",
       "<style scoped>\n",
       "    .dataframe tbody tr th:only-of-type {\n",
       "        vertical-align: middle;\n",
       "    }\n",
       "\n",
       "    .dataframe tbody tr th {\n",
       "        vertical-align: top;\n",
       "    }\n",
       "\n",
       "    .dataframe thead th {\n",
       "        text-align: right;\n",
       "    }\n",
       "</style>\n",
       "<table border=\"1\" class=\"dataframe\">\n",
       "  <thead>\n",
       "    <tr style=\"text-align: right;\">\n",
       "      <th></th>\n",
       "      <th>LCLid</th>\n",
       "      <th>stdorToU</th>\n",
       "      <th>Acorn</th>\n",
       "      <th>Acorn_grouped</th>\n",
       "      <th>file</th>\n",
       "    </tr>\n",
       "  </thead>\n",
       "  <tbody>\n",
       "    <tr>\n",
       "      <th>0</th>\n",
       "      <td>MAC005492</td>\n",
       "      <td>ToU</td>\n",
       "      <td>ACORN-</td>\n",
       "      <td>ACORN-</td>\n",
       "      <td>block_0</td>\n",
       "    </tr>\n",
       "    <tr>\n",
       "      <th>1</th>\n",
       "      <td>MAC001074</td>\n",
       "      <td>ToU</td>\n",
       "      <td>ACORN-</td>\n",
       "      <td>ACORN-</td>\n",
       "      <td>block_0</td>\n",
       "    </tr>\n",
       "    <tr>\n",
       "      <th>2</th>\n",
       "      <td>MAC000002</td>\n",
       "      <td>Std</td>\n",
       "      <td>ACORN-A</td>\n",
       "      <td>Affluent</td>\n",
       "      <td>block_0</td>\n",
       "    </tr>\n",
       "  </tbody>\n",
       "</table>\n",
       "</div>"
      ],
      "text/plain": [
       "       LCLid stdorToU    Acorn Acorn_grouped     file\n",
       "0  MAC005492      ToU   ACORN-        ACORN-  block_0\n",
       "1  MAC001074      ToU   ACORN-        ACORN-  block_0\n",
       "2  MAC000002      Std  ACORN-A      Affluent  block_0"
      ]
     },
     "execution_count": 6,
     "metadata": {},
     "output_type": "execute_result"
    }
   ],
   "source": [
    "demographic_data.head(3)"
   ]
  },
  {
   "cell_type": "code",
   "execution_count": 7,
   "metadata": {},
   "outputs": [
    {
     "data": {
      "text/html": [
       "<div>\n",
       "<style scoped>\n",
       "    .dataframe tbody tr th:only-of-type {\n",
       "        vertical-align: middle;\n",
       "    }\n",
       "\n",
       "    .dataframe tbody tr th {\n",
       "        vertical-align: top;\n",
       "    }\n",
       "\n",
       "    .dataframe thead th {\n",
       "        text-align: right;\n",
       "    }\n",
       "</style>\n",
       "<table border=\"1\" class=\"dataframe\">\n",
       "  <thead>\n",
       "    <tr style=\"text-align: right;\">\n",
       "      <th></th>\n",
       "      <th>Bank holidays</th>\n",
       "      <th>Type</th>\n",
       "    </tr>\n",
       "  </thead>\n",
       "  <tbody>\n",
       "    <tr>\n",
       "      <th>0</th>\n",
       "      <td>2012-12-26</td>\n",
       "      <td>Boxing Day</td>\n",
       "    </tr>\n",
       "    <tr>\n",
       "      <th>1</th>\n",
       "      <td>2012-12-25</td>\n",
       "      <td>Christmas Day</td>\n",
       "    </tr>\n",
       "    <tr>\n",
       "      <th>2</th>\n",
       "      <td>2012-08-27</td>\n",
       "      <td>Summer bank holiday</td>\n",
       "    </tr>\n",
       "  </tbody>\n",
       "</table>\n",
       "</div>"
      ],
      "text/plain": [
       "  Bank holidays                 Type\n",
       "0    2012-12-26           Boxing Day\n",
       "1    2012-12-25        Christmas Day\n",
       "2    2012-08-27  Summer bank holiday"
      ]
     },
     "execution_count": 7,
     "metadata": {},
     "output_type": "execute_result"
    }
   ],
   "source": [
    "holiday_data.head(3)"
   ]
  },
  {
   "cell_type": "code",
   "execution_count": 8,
   "metadata": {},
   "outputs": [
    {
     "name": "stdout",
     "output_type": "stream",
     "text": [
      "<class 'pandas.core.frame.DataFrame'>\n",
      "RangeIndex: 3510433 entries, 0 to 3510432\n",
      "Data columns (total 9 columns):\n",
      " #   Column         Dtype  \n",
      "---  ------         -----  \n",
      " 0   LCLid          object \n",
      " 1   day            object \n",
      " 2   energy_median  float64\n",
      " 3   energy_mean    float64\n",
      " 4   energy_max     float64\n",
      " 5   energy_count   int64  \n",
      " 6   energy_std     float64\n",
      " 7   energy_sum     float64\n",
      " 8   energy_min     float64\n",
      "dtypes: float64(6), int64(1), object(2)\n",
      "memory usage: 241.0+ MB\n"
     ]
    }
   ],
   "source": [
    "energy_data.info() # basic descr."
   ]
  },
  {
   "cell_type": "markdown",
   "metadata": {},
   "source": [
    "## Atrribute information"
   ]
  },
  {
   "cell_type": "markdown",
   "metadata": {},
   "source": [
    "**Dependent variables**:  \n",
    "\n",
    "    Day - day the energy usage measured\n",
    "    Energy - average energy used\n",
    "    \n",
    "**Target variable**:               \n",
    "\n",
    "    Energy - predict the average energy used"
   ]
  },
  {
   "cell_type": "markdown",
   "metadata": {},
   "source": [
    "### Data Type      \n",
    "**Object**\n",
    "\n",
    "    - Day\n",
    "    \n",
    "**Numeric**   \n",
    "\n",
    "    - Energy"
   ]
  },
  {
   "cell_type": "markdown",
   "metadata": {},
   "source": [
    "### Feature category        \n",
    "**Categorical**      \n",
    "\n",
    "    - Day\n",
    "    \n",
    "**Continuous**     \n",
    "\n",
    "    - Energy"
   ]
  },
  {
   "cell_type": "markdown",
   "metadata": {},
   "source": [
    "# Exploratory Data Analysis"
   ]
  },
  {
   "cell_type": "markdown",
   "metadata": {},
   "source": [
    "### Data Type      \n",
    "**Object**\n",
    "\n",
    "    - location\n",
    "    \n",
    "**Numeric**       \n",
    "    - temp\n",
    "    - clouds\n",
    "    - pressure\n",
    "    - rain\n",
    "    - time stamp\n",
    "    - humidity\n",
    "    - wind"
   ]
  },
  {
   "cell_type": "markdown",
   "metadata": {},
   "source": [
    "### Feature category        \n",
    "**Categorical**       \n",
    "    - location\n",
    "    \n",
    "**Continuous**     \n",
    "    - temp\n",
    "    - time stamp\n",
    "    - clouds\n",
    "    - pressure\n",
    "    - rain\n",
    "    - humidity\n",
    "    - wind"
   ]
  },
  {
   "cell_type": "code",
   "execution_count": 9,
   "metadata": {},
   "outputs": [],
   "source": [
    "# drop unnecessary features\n",
    "energy_data = energy_data.drop(['energy_median', 'energy_max', 'energy_count', 'energy_std', \n",
    "                                'energy_sum', 'energy_min']\n",
    "                               , axis=1)"
   ]
  },
  {
   "cell_type": "code",
   "execution_count": 10,
   "metadata": {},
   "outputs": [],
   "source": [
    "energy_data['date'] = pd.to_datetime(energy_data['day'])\n",
    "energy_data['year'] = energy_data['date'].dt.year\n",
    "energy_data['month'] = energy_data['date'].dt.month_name()\n",
    "energy_data['day'] = energy_data['date'].dt.day_name()"
   ]
  },
  {
   "cell_type": "code",
   "execution_count": 11,
   "metadata": {},
   "outputs": [
    {
     "data": {
      "text/html": [
       "<div>\n",
       "<style scoped>\n",
       "    .dataframe tbody tr th:only-of-type {\n",
       "        vertical-align: middle;\n",
       "    }\n",
       "\n",
       "    .dataframe tbody tr th {\n",
       "        vertical-align: top;\n",
       "    }\n",
       "\n",
       "    .dataframe thead th {\n",
       "        text-align: right;\n",
       "    }\n",
       "</style>\n",
       "<table border=\"1\" class=\"dataframe\">\n",
       "  <thead>\n",
       "    <tr style=\"text-align: right;\">\n",
       "      <th></th>\n",
       "      <th>LCLid</th>\n",
       "      <th>day</th>\n",
       "      <th>energy_mean</th>\n",
       "      <th>date</th>\n",
       "      <th>year</th>\n",
       "      <th>month</th>\n",
       "    </tr>\n",
       "  </thead>\n",
       "  <tbody>\n",
       "    <tr>\n",
       "      <th>0</th>\n",
       "      <td>MAC000131</td>\n",
       "      <td>Thursday</td>\n",
       "      <td>0.432045</td>\n",
       "      <td>2011-12-15</td>\n",
       "      <td>2011</td>\n",
       "      <td>December</td>\n",
       "    </tr>\n",
       "    <tr>\n",
       "      <th>1</th>\n",
       "      <td>MAC000131</td>\n",
       "      <td>Friday</td>\n",
       "      <td>0.296167</td>\n",
       "      <td>2011-12-16</td>\n",
       "      <td>2011</td>\n",
       "      <td>December</td>\n",
       "    </tr>\n",
       "    <tr>\n",
       "      <th>2</th>\n",
       "      <td>MAC000131</td>\n",
       "      <td>Saturday</td>\n",
       "      <td>0.189812</td>\n",
       "      <td>2011-12-17</td>\n",
       "      <td>2011</td>\n",
       "      <td>December</td>\n",
       "    </tr>\n",
       "    <tr>\n",
       "      <th>3</th>\n",
       "      <td>MAC000131</td>\n",
       "      <td>Sunday</td>\n",
       "      <td>0.218979</td>\n",
       "      <td>2011-12-18</td>\n",
       "      <td>2011</td>\n",
       "      <td>December</td>\n",
       "    </tr>\n",
       "    <tr>\n",
       "      <th>4</th>\n",
       "      <td>MAC000131</td>\n",
       "      <td>Monday</td>\n",
       "      <td>0.325979</td>\n",
       "      <td>2011-12-19</td>\n",
       "      <td>2011</td>\n",
       "      <td>December</td>\n",
       "    </tr>\n",
       "    <tr>\n",
       "      <th>...</th>\n",
       "      <td>...</td>\n",
       "      <td>...</td>\n",
       "      <td>...</td>\n",
       "      <td>...</td>\n",
       "      <td>...</td>\n",
       "      <td>...</td>\n",
       "    </tr>\n",
       "    <tr>\n",
       "      <th>3510428</th>\n",
       "      <td>MAC004977</td>\n",
       "      <td>Monday</td>\n",
       "      <td>0.118458</td>\n",
       "      <td>2014-02-24</td>\n",
       "      <td>2014</td>\n",
       "      <td>February</td>\n",
       "    </tr>\n",
       "    <tr>\n",
       "      <th>3510429</th>\n",
       "      <td>MAC004977</td>\n",
       "      <td>Tuesday</td>\n",
       "      <td>0.084208</td>\n",
       "      <td>2014-02-25</td>\n",
       "      <td>2014</td>\n",
       "      <td>February</td>\n",
       "    </tr>\n",
       "    <tr>\n",
       "      <th>3510430</th>\n",
       "      <td>MAC004977</td>\n",
       "      <td>Wednesday</td>\n",
       "      <td>0.120500</td>\n",
       "      <td>2014-02-26</td>\n",
       "      <td>2014</td>\n",
       "      <td>February</td>\n",
       "    </tr>\n",
       "    <tr>\n",
       "      <th>3510431</th>\n",
       "      <td>MAC004977</td>\n",
       "      <td>Thursday</td>\n",
       "      <td>0.114062</td>\n",
       "      <td>2014-02-27</td>\n",
       "      <td>2014</td>\n",
       "      <td>February</td>\n",
       "    </tr>\n",
       "    <tr>\n",
       "      <th>3510432</th>\n",
       "      <td>MAC004977</td>\n",
       "      <td>Friday</td>\n",
       "      <td>0.097000</td>\n",
       "      <td>2014-02-28</td>\n",
       "      <td>2014</td>\n",
       "      <td>February</td>\n",
       "    </tr>\n",
       "  </tbody>\n",
       "</table>\n",
       "<p>3510433 rows × 6 columns</p>\n",
       "</div>"
      ],
      "text/plain": [
       "             LCLid        day  energy_mean       date  year     month\n",
       "0        MAC000131   Thursday     0.432045 2011-12-15  2011  December\n",
       "1        MAC000131     Friday     0.296167 2011-12-16  2011  December\n",
       "2        MAC000131   Saturday     0.189812 2011-12-17  2011  December\n",
       "3        MAC000131     Sunday     0.218979 2011-12-18  2011  December\n",
       "4        MAC000131     Monday     0.325979 2011-12-19  2011  December\n",
       "...            ...        ...          ...        ...   ...       ...\n",
       "3510428  MAC004977     Monday     0.118458 2014-02-24  2014  February\n",
       "3510429  MAC004977    Tuesday     0.084208 2014-02-25  2014  February\n",
       "3510430  MAC004977  Wednesday     0.120500 2014-02-26  2014  February\n",
       "3510431  MAC004977   Thursday     0.114062 2014-02-27  2014  February\n",
       "3510432  MAC004977     Friday     0.097000 2014-02-28  2014  February\n",
       "\n",
       "[3510433 rows x 6 columns]"
      ]
     },
     "execution_count": 11,
     "metadata": {},
     "output_type": "execute_result"
    }
   ],
   "source": [
    "energy_data"
   ]
  },
  {
   "cell_type": "markdown",
   "metadata": {},
   "source": [
    "## Univariate Analysis"
   ]
  },
  {
   "cell_type": "markdown",
   "metadata": {},
   "source": [
    "### Continuous variables"
   ]
  },
  {
   "cell_type": "markdown",
   "metadata": {},
   "source": [
    "#### Energy"
   ]
  },
  {
   "cell_type": "code",
   "execution_count": 12,
   "metadata": {},
   "outputs": [
    {
     "data": {
      "text/plain": [
       "count    3.510403e+06\n",
       "mean     2.117305e-01\n",
       "std      1.908460e-01\n",
       "min      0.000000e+00\n",
       "25%      9.808333e-02\n",
       "50%      1.632917e-01\n",
       "75%      2.624583e-01\n",
       "max      6.928250e+00\n",
       "Name: energy_mean, dtype: float64"
      ]
     },
     "execution_count": 12,
     "metadata": {},
     "output_type": "execute_result"
    }
   ],
   "source": [
    "energy_data['energy_mean'].describe()"
   ]
  },
  {
   "cell_type": "code",
   "execution_count": 13,
   "metadata": {},
   "outputs": [
    {
     "name": "stderr",
     "output_type": "stream",
     "text": [
      "/home/chqdrian/anaconda3/lib/python3.9/site-packages/seaborn/distributions.py:2619: FutureWarning: `distplot` is a deprecated function and will be removed in a future version. Please adapt your code to use either `displot` (a figure-level function with similar flexibility) or `histplot` (an axes-level function for histograms).\n",
      "  warnings.warn(msg, FutureWarning)\n"
     ]
    },
    {
     "data": {
      "text/plain": [
       "(0.0, 5.0)"
      ]
     },
     "execution_count": 13,
     "metadata": {},
     "output_type": "execute_result"
    },
    {
     "data": {
      "image/png": "[encoded data removed]",
      "text/plain": [
       "<Figure size 720x360 with 1 Axes>"
      ]
     },
     "metadata": {},
     "output_type": "display_data"
    }
   ],
   "source": [
    "fig, (ax1) = plt.subplots(ncols=1, figsize=(10, 5))\n",
    "sns.distplot(energy_data['energy_mean'], ax=ax1, kde=True)\n",
    "ax1.set_title('Distribution of Energy usage', fontsize=20)\n",
    "ax1.set_xlim(-0.5, 2)\n",
    "ax1.set_ylim(0, 5)"
   ]
  },
  {
   "cell_type": "code",
   "execution_count": 14,
   "metadata": {},
   "outputs": [
    {
     "name": "stderr",
     "output_type": "stream",
     "text": [
      "/home/chqdrian/anaconda3/lib/python3.9/site-packages/seaborn/_decorators.py:36: FutureWarning: Pass the following variable as a keyword arg: x. From version 0.12, the only valid positional argument will be `data`, and passing other arguments without an explicit keyword will result in an error or misinterpretation.\n",
      "  warnings.warn(\n"
     ]
    },
    {
     "data": {
      "text/plain": [
       "(-1.0, 1.5)"
      ]
     },
     "execution_count": 14,
     "metadata": {},
     "output_type": "execute_result"
    },
    {
     "data": {
      "image/png": "[encoded data removed]",
      "text/plain": [
       "<Figure size 720x360 with 1 Axes>"
      ]
     },
     "metadata": {},
     "output_type": "display_data"
    }
   ],
   "source": [
    "fig, (ax1) = plt.subplots(ncols=1, figsize=(10, 5))\n",
    "sns.boxplot(energy_data['energy_mean'], ax=ax1)\n",
    "ax1.set_title('Distribution of Energy usage', fontsize=20)\n",
    "ax1.set_xlim(-0.5, 8)\n",
    "ax1.set_ylim(-1, 1.5)"
   ]
  },
  {
   "cell_type": "markdown",
   "metadata": {},
   "source": [
    "**Outliers**       \n",
    "These outliers are due to winter seasons. So, we decided to keep it."
   ]
  },
  {
   "cell_type": "code",
   "execution_count": 15,
   "metadata": {},
   "outputs": [
    {
     "data": {
      "text/html": [
       "<div>\n",
       "<style scoped>\n",
       "    .dataframe tbody tr th:only-of-type {\n",
       "        vertical-align: middle;\n",
       "    }\n",
       "\n",
       "    .dataframe tbody tr th {\n",
       "        vertical-align: top;\n",
       "    }\n",
       "\n",
       "    .dataframe thead th {\n",
       "        text-align: right;\n",
       "    }\n",
       "</style>\n",
       "<table border=\"1\" class=\"dataframe\">\n",
       "  <thead>\n",
       "    <tr style=\"text-align: right;\">\n",
       "      <th></th>\n",
       "      <th>LCLid</th>\n",
       "      <th>day</th>\n",
       "      <th>energy_mean</th>\n",
       "      <th>date</th>\n",
       "      <th>year</th>\n",
       "      <th>month</th>\n",
       "    </tr>\n",
       "  </thead>\n",
       "  <tbody>\n",
       "    <tr>\n",
       "      <th>122536</th>\n",
       "      <td>MAC005385</td>\n",
       "      <td>Sunday</td>\n",
       "      <td>3.880000</td>\n",
       "      <td>2014-01-19</td>\n",
       "      <td>2014</td>\n",
       "      <td>January</td>\n",
       "    </tr>\n",
       "    <tr>\n",
       "      <th>122576</th>\n",
       "      <td>MAC005385</td>\n",
       "      <td>Friday</td>\n",
       "      <td>4.004000</td>\n",
       "      <td>2014-02-28</td>\n",
       "      <td>2014</td>\n",
       "      <td>February</td>\n",
       "    </tr>\n",
       "    <tr>\n",
       "      <th>126964</th>\n",
       "      <td>MAC005422</td>\n",
       "      <td>Friday</td>\n",
       "      <td>3.828000</td>\n",
       "      <td>2014-02-28</td>\n",
       "      <td>2014</td>\n",
       "      <td>February</td>\n",
       "    </tr>\n",
       "    <tr>\n",
       "      <th>162312</th>\n",
       "      <td>MAC000034</td>\n",
       "      <td>Friday</td>\n",
       "      <td>5.690000</td>\n",
       "      <td>2014-02-28</td>\n",
       "      <td>2014</td>\n",
       "      <td>February</td>\n",
       "    </tr>\n",
       "    <tr>\n",
       "      <th>460474</th>\n",
       "      <td>MAC002670</td>\n",
       "      <td>Monday</td>\n",
       "      <td>4.820917</td>\n",
       "      <td>2012-11-12</td>\n",
       "      <td>2012</td>\n",
       "      <td>November</td>\n",
       "    </tr>\n",
       "    <tr>\n",
       "      <th>460475</th>\n",
       "      <td>MAC002670</td>\n",
       "      <td>Tuesday</td>\n",
       "      <td>6.304375</td>\n",
       "      <td>2012-11-13</td>\n",
       "      <td>2012</td>\n",
       "      <td>November</td>\n",
       "    </tr>\n",
       "  </tbody>\n",
       "</table>\n",
       "</div>"
      ],
      "text/plain": [
       "            LCLid      day  energy_mean       date  year     month\n",
       "122536  MAC005385   Sunday     3.880000 2014-01-19  2014   January\n",
       "122576  MAC005385   Friday     4.004000 2014-02-28  2014  February\n",
       "126964  MAC005422   Friday     3.828000 2014-02-28  2014  February\n",
       "162312  MAC000034   Friday     5.690000 2014-02-28  2014  February\n",
       "460474  MAC002670   Monday     4.820917 2012-11-12  2012  November\n",
       "460475  MAC002670  Tuesday     6.304375 2012-11-13  2012  November"
      ]
     },
     "execution_count": 15,
     "metadata": {},
     "output_type": "execute_result"
    }
   ],
   "source": [
    "energy_data[(energy_data['energy_mean'] > 3.5)].head(6)"
   ]
  },
  {
   "cell_type": "code",
   "execution_count": 16,
   "metadata": {},
   "outputs": [
    {
     "data": {
      "text/html": [
       "<div>\n",
       "<style scoped>\n",
       "    .dataframe tbody tr th:only-of-type {\n",
       "        vertical-align: middle;\n",
       "    }\n",
       "\n",
       "    .dataframe tbody tr th {\n",
       "        vertical-align: top;\n",
       "    }\n",
       "\n",
       "    .dataframe thead th {\n",
       "        text-align: right;\n",
       "    }\n",
       "</style>\n",
       "<table border=\"1\" class=\"dataframe\">\n",
       "  <thead>\n",
       "    <tr style=\"text-align: right;\">\n",
       "      <th></th>\n",
       "      <th></th>\n",
       "      <th>energy_mean</th>\n",
       "    </tr>\n",
       "    <tr>\n",
       "      <th>year</th>\n",
       "      <th>month</th>\n",
       "      <th></th>\n",
       "    </tr>\n",
       "  </thead>\n",
       "  <tbody>\n",
       "    <tr>\n",
       "      <th rowspan=\"3\" valign=\"top\">2012</th>\n",
       "      <th>December</th>\n",
       "      <td>5.019919</td>\n",
       "    </tr>\n",
       "    <tr>\n",
       "      <th>November</th>\n",
       "      <td>5.504765</td>\n",
       "    </tr>\n",
       "    <tr>\n",
       "      <th>October</th>\n",
       "      <td>3.784948</td>\n",
       "    </tr>\n",
       "    <tr>\n",
       "      <th rowspan=\"7\" valign=\"top\">2013</th>\n",
       "      <th>April</th>\n",
       "      <td>5.192438</td>\n",
       "    </tr>\n",
       "    <tr>\n",
       "      <th>December</th>\n",
       "      <td>5.071772</td>\n",
       "    </tr>\n",
       "    <tr>\n",
       "      <th>February</th>\n",
       "      <td>4.799250</td>\n",
       "    </tr>\n",
       "    <tr>\n",
       "      <th>January</th>\n",
       "      <td>4.532667</td>\n",
       "    </tr>\n",
       "    <tr>\n",
       "      <th>March</th>\n",
       "      <td>3.693733</td>\n",
       "    </tr>\n",
       "    <tr>\n",
       "      <th>November</th>\n",
       "      <td>4.390600</td>\n",
       "    </tr>\n",
       "    <tr>\n",
       "      <th>October</th>\n",
       "      <td>3.568896</td>\n",
       "    </tr>\n",
       "  </tbody>\n",
       "</table>\n",
       "</div>"
      ],
      "text/plain": [
       "               energy_mean\n",
       "year month                \n",
       "2012 December     5.019919\n",
       "     November     5.504765\n",
       "     October      3.784948\n",
       "2013 April        5.192438\n",
       "     December     5.071772\n",
       "     February     4.799250\n",
       "     January      4.532667\n",
       "     March        3.693733\n",
       "     November     4.390600\n",
       "     October      3.568896"
      ]
     },
     "execution_count": 16,
     "metadata": {},
     "output_type": "execute_result"
    }
   ],
   "source": [
    "energy_data[(energy_data['energy_mean'] > 3.5)].groupby(by=['year', 'month']).mean().head(10)"
   ]
  },
  {
   "cell_type": "markdown",
   "metadata": {},
   "source": [
    "### Categorical variables"
   ]
  },
  {
   "cell_type": "markdown",
   "metadata": {},
   "source": [
    "#### Year"
   ]
  },
  {
   "cell_type": "code",
   "execution_count": 17,
   "metadata": {},
   "outputs": [
    {
     "data": {
      "text/plain": [
       "2013    1940231\n",
       "2012    1263580\n",
       "2014     298099\n",
       "2011       8523\n",
       "Name: year, dtype: int64"
      ]
     },
     "execution_count": 17,
     "metadata": {},
     "output_type": "execute_result"
    }
   ],
   "source": [
    "energy_data['year'].value_counts() # frequency count"
   ]
  },
  {
   "cell_type": "code",
   "execution_count": 18,
   "metadata": {},
   "outputs": [
    {
     "name": "stderr",
     "output_type": "stream",
     "text": [
      "/home/chqdrian/anaconda3/lib/python3.9/site-packages/seaborn/_decorators.py:36: FutureWarning: Pass the following variable as a keyword arg: x. From version 0.12, the only valid positional argument will be `data`, and passing other arguments without an explicit keyword will result in an error or misinterpretation.\n",
      "  warnings.warn(\n"
     ]
    },
    {
     "data": {
      "text/plain": [
       "Text(0.5, 1.0, 'Frequency of Data from each year')"
      ]
     },
     "execution_count": 18,
     "metadata": {},
     "output_type": "execute_result"
    },
    {
     "data": {
      "image/png": "[encoded data removed]",
      "text/plain": [
       "<Figure size 576x360 with 1 Axes>"
      ]
     },
     "metadata": {},
     "output_type": "display_data"
    }
   ],
   "source": [
    "plt.figure(figsize=(8,5))\n",
    "sns.countplot('year', data=energy_data)\n",
    "plt.title('Frequency of Data from each year', fontsize=15)"
   ]
  },
  {
   "cell_type": "markdown",
   "metadata": {},
   "source": [
    "#### Month"
   ]
  },
  {
   "cell_type": "code",
   "execution_count": 19,
   "metadata": {},
   "outputs": [
    {
     "data": {
      "text/plain": [
       "January      342675\n",
       "December     337878\n",
       "October      325702\n",
       "November     321297\n",
       "February     314848\n",
       "August       310945\n",
       "July         307947\n",
       "September    302240\n",
       "June         279965\n",
       "May          256900\n",
       "April        209774\n",
       "March        200262\n",
       "Name: month, dtype: int64"
      ]
     },
     "execution_count": 19,
     "metadata": {},
     "output_type": "execute_result"
    }
   ],
   "source": [
    "energy_data['month'].value_counts() # frequency count"
   ]
  },
  {
   "cell_type": "code",
   "execution_count": 20,
   "metadata": {},
   "outputs": [
    {
     "name": "stderr",
     "output_type": "stream",
     "text": [
      "/home/chqdrian/anaconda3/lib/python3.9/site-packages/seaborn/_decorators.py:36: FutureWarning: Pass the following variable as a keyword arg: x. From version 0.12, the only valid positional argument will be `data`, and passing other arguments without an explicit keyword will result in an error or misinterpretation.\n",
      "  warnings.warn(\n"
     ]
    },
    {
     "data": {
      "text/plain": [
       "Text(0.5, 1.0, 'Frequency of Data from each month')"
      ]
     },
     "execution_count": 20,
     "metadata": {},
     "output_type": "execute_result"
    },
    {
     "data": {
      "image/png": "[encoded data removed]",
      "text/plain": [
       "<Figure size 576x360 with 1 Axes>"
      ]
     },
     "metadata": {},
     "output_type": "display_data"
    }
   ],
   "source": [
    "plt.figure(figsize=(8,5))\n",
    "ax = sns.countplot('month', data=energy_data)\n",
    "ax.set_xticklabels(ax.get_xticklabels(), rotation=40, ha=\"right\")\n",
    "plt.title('Frequency of Data from each month', fontsize=15)"
   ]
  },
  {
   "cell_type": "markdown",
   "metadata": {},
   "source": [
    "#### Day"
   ]
  },
  {
   "cell_type": "code",
   "execution_count": 21,
   "metadata": {},
   "outputs": [
    {
     "name": "stderr",
     "output_type": "stream",
     "text": [
      "/home/chqdrian/anaconda3/lib/python3.9/site-packages/seaborn/_decorators.py:36: FutureWarning: Pass the following variable as a keyword arg: x. From version 0.12, the only valid positional argument will be `data`, and passing other arguments without an explicit keyword will result in an error or misinterpretation.\n",
      "  warnings.warn(\n"
     ]
    },
    {
     "data": {
      "text/plain": [
       "Text(0.5, 1.0, 'Frequency of Data from each day')"
      ]
     },
     "execution_count": 21,
     "metadata": {},
     "output_type": "execute_result"
    },
    {
     "data": {
      "image/png": "[encoded data removed]",
      "text/plain": [
       "<Figure size 576x360 with 1 Axes>"
      ]
     },
     "metadata": {},
     "output_type": "display_data"
    }
   ],
   "source": [
    "plt.figure(figsize=(8,5))\n",
    "ax = sns.countplot('day', data=energy_data)\n",
    "ax.set_xticklabels(ax.get_xticklabels(), rotation=40, ha=\"right\")\n",
    "plt.title('Frequency of Data from each day', fontsize=15)"
   ]
  },
  {
   "cell_type": "markdown",
   "metadata": {},
   "source": [
    "### Bi-variate analysis"
   ]
  },
  {
   "cell_type": "markdown",
   "metadata": {},
   "source": [
    "**Categorical & Continuous**"
   ]
  },
  {
   "cell_type": "code",
   "execution_count": 22,
   "metadata": {},
   "outputs": [
    {
     "name": "stderr",
     "output_type": "stream",
     "text": [
      "/home/chqdrian/anaconda3/lib/python3.9/site-packages/seaborn/_decorators.py:36: FutureWarning: Pass the following variable as a keyword arg: x. From version 0.12, the only valid positional argument will be `data`, and passing other arguments without an explicit keyword will result in an error or misinterpretation.\n",
      "  warnings.warn(\n"
     ]
    },
    {
     "data": {
      "text/plain": [
       "<AxesSubplot:xlabel='energy_mean', ylabel='year'>"
      ]
     },
     "execution_count": 22,
     "metadata": {},
     "output_type": "execute_result"
    },
    {
     "data": {
      "image/png": "[encoded data removed]",
      "text/plain": [
       "<Figure size 432x288 with 1 Axes>"
      ]
     },
     "metadata": {},
     "output_type": "display_data"
    }
   ],
   "source": [
    "sns.boxplot(energy_data['energy_mean'], y=energy_data['year'], orient='h')"
   ]
  },
  {
   "cell_type": "code",
   "execution_count": 23,
   "metadata": {},
   "outputs": [
    {
     "name": "stderr",
     "output_type": "stream",
     "text": [
      "/home/chqdrian/anaconda3/lib/python3.9/site-packages/seaborn/_decorators.py:36: FutureWarning: Pass the following variable as a keyword arg: x. From version 0.12, the only valid positional argument will be `data`, and passing other arguments without an explicit keyword will result in an error or misinterpretation.\n",
      "  warnings.warn(\n"
     ]
    },
    {
     "data": {
      "text/plain": [
       "<AxesSubplot:xlabel='energy_mean', ylabel='month'>"
      ]
     },
     "execution_count": 23,
     "metadata": {},
     "output_type": "execute_result"
    },
    {
     "data": {
      "image/png": "[encoded data removed]",
      "text/plain": [
       "<Figure size 432x288 with 1 Axes>"
      ]
     },
     "metadata": {},
     "output_type": "display_data"
    }
   ],
   "source": [
    "sns.boxplot(energy_data['energy_mean'], y=energy_data['month'], orient='h')"
   ]
  },
  {
   "cell_type": "code",
   "execution_count": 24,
   "metadata": {},
   "outputs": [
    {
     "name": "stderr",
     "output_type": "stream",
     "text": [
      "/home/chqdrian/anaconda3/lib/python3.9/site-packages/seaborn/_decorators.py:36: FutureWarning: Pass the following variable as a keyword arg: x. From version 0.12, the only valid positional argument will be `data`, and passing other arguments without an explicit keyword will result in an error or misinterpretation.\n",
      "  warnings.warn(\n"
     ]
    },
    {
     "data": {
      "text/plain": [
       "<AxesSubplot:xlabel='energy_mean', ylabel='day'>"
      ]
     },
     "execution_count": 24,
     "metadata": {},
     "output_type": "execute_result"
    },
    {
     "data": {
      "image/png": "[encoded data removed]",
      "text/plain": [
       "<Figure size 432x288 with 1 Axes>"
      ]
     },
     "metadata": {},
     "output_type": "display_data"
    }
   ],
   "source": [
    "sns.boxplot(energy_data['energy_mean'], y=energy_data['day'], orient='h')"
   ]
  },
  {
   "cell_type": "markdown",
   "metadata": {},
   "source": [
    "### Missing Value Treatment"
   ]
  },
  {
   "cell_type": "code",
   "execution_count": 25,
   "metadata": {},
   "outputs": [
    {
     "name": "stdout",
     "output_type": "stream",
     "text": [
      "Energy usage dataset contains 3510433 rows and 6 columns.\n"
     ]
    }
   ],
   "source": [
    "nrows, ncols = energy_data.shape\n",
    "print(f'Energy usage dataset contains {nrows} rows and {ncols} columns.')"
   ]
  },
  {
   "cell_type": "code",
   "execution_count": 26,
   "metadata": {},
   "outputs": [
    {
     "name": "stdout",
     "output_type": "stream",
     "text": [
      "Energy usage dataset contains 30 missing values, which is 0.001 % of whole data.\n"
     ]
    }
   ],
   "source": [
    "mv  = energy_data.isnull().sum().sum()\n",
    "prop = round(((mv/energy_data.shape[0]) * 100),3)\n",
    "print(f'Energy usage dataset contains {mv} missing values, which is {prop} % of whole data.')"
   ]
  },
  {
   "cell_type": "code",
   "execution_count": 27,
   "metadata": {},
   "outputs": [
    {
     "data": {
      "text/plain": [
       "LCLid           0\n",
       "day             0\n",
       "energy_mean    30\n",
       "date            0\n",
       "year            0\n",
       "month           0\n",
       "dtype: int64"
      ]
     },
     "execution_count": 27,
     "metadata": {},
     "output_type": "execute_result"
    }
   ],
   "source": [
    "energy_data.isnull().sum()"
   ]
  },
  {
   "cell_type": "code",
   "execution_count": 28,
   "metadata": {},
   "outputs": [
    {
     "name": "stdout",
     "output_type": "stream",
     "text": [
      "Now the dataset contains 3510403 rows and 6 columns.\n"
     ]
    }
   ],
   "source": [
    "# let's drop those records\n",
    "energy_data.dropna(how='any', inplace=True)\n",
    "nrows, ncols = energy_data.shape\n",
    "print(f'Now the dataset contains {nrows} rows and {ncols} columns.')"
   ]
  },
  {
   "cell_type": "code",
   "execution_count": 29,
   "metadata": {},
   "outputs": [
    {
     "data": {
      "text/plain": [
       "0"
      ]
     },
     "execution_count": 29,
     "metadata": {},
     "output_type": "execute_result"
    }
   ],
   "source": [
    "energy_data.isnull().sum().sum() # check for missing values"
   ]
  },
  {
   "cell_type": "markdown",
   "metadata": {},
   "source": [
    "### Weather dataset"
   ]
  },
  {
   "cell_type": "code",
   "execution_count": 30,
   "metadata": {},
   "outputs": [
    {
     "data": {
      "text/html": [
       "<div>\n",
       "<style scoped>\n",
       "    .dataframe tbody tr th:only-of-type {\n",
       "        vertical-align: middle;\n",
       "    }\n",
       "\n",
       "    .dataframe tbody tr th {\n",
       "        vertical-align: top;\n",
       "    }\n",
       "\n",
       "    .dataframe thead th {\n",
       "        text-align: right;\n",
       "    }\n",
       "</style>\n",
       "<table border=\"1\" class=\"dataframe\">\n",
       "  <thead>\n",
       "    <tr style=\"text-align: right;\">\n",
       "      <th></th>\n",
       "      <th>temperatureMax</th>\n",
       "      <th>windBearing</th>\n",
       "      <th>dewPoint</th>\n",
       "      <th>cloudCover</th>\n",
       "      <th>windSpeed</th>\n",
       "      <th>pressure</th>\n",
       "      <th>apparentTemperatureHigh</th>\n",
       "      <th>visibility</th>\n",
       "      <th>humidity</th>\n",
       "      <th>apparentTemperatureLow</th>\n",
       "      <th>apparentTemperatureMax</th>\n",
       "      <th>uvIndex</th>\n",
       "      <th>temperatureLow</th>\n",
       "      <th>temperatureMin</th>\n",
       "      <th>temperatureHigh</th>\n",
       "      <th>apparentTemperatureMin</th>\n",
       "      <th>moonPhase</th>\n",
       "    </tr>\n",
       "  </thead>\n",
       "  <tbody>\n",
       "    <tr>\n",
       "      <th>count</th>\n",
       "      <td>882.000000</td>\n",
       "      <td>882.000000</td>\n",
       "      <td>882.000000</td>\n",
       "      <td>881.000000</td>\n",
       "      <td>882.000000</td>\n",
       "      <td>882.000000</td>\n",
       "      <td>882.000000</td>\n",
       "      <td>882.000000</td>\n",
       "      <td>882.000000</td>\n",
       "      <td>882.000000</td>\n",
       "      <td>882.000000</td>\n",
       "      <td>881.000000</td>\n",
       "      <td>882.000000</td>\n",
       "      <td>882.000000</td>\n",
       "      <td>882.000000</td>\n",
       "      <td>882.000000</td>\n",
       "      <td>882.000000</td>\n",
       "    </tr>\n",
       "    <tr>\n",
       "      <th>mean</th>\n",
       "      <td>13.660113</td>\n",
       "      <td>195.702948</td>\n",
       "      <td>6.530034</td>\n",
       "      <td>0.477605</td>\n",
       "      <td>3.581803</td>\n",
       "      <td>1014.127540</td>\n",
       "      <td>12.723866</td>\n",
       "      <td>11.167143</td>\n",
       "      <td>0.781871</td>\n",
       "      <td>6.085045</td>\n",
       "      <td>12.929467</td>\n",
       "      <td>2.542565</td>\n",
       "      <td>7.709841</td>\n",
       "      <td>7.414161</td>\n",
       "      <td>13.542392</td>\n",
       "      <td>5.738039</td>\n",
       "      <td>0.500930</td>\n",
       "    </tr>\n",
       "    <tr>\n",
       "      <th>std</th>\n",
       "      <td>6.182744</td>\n",
       "      <td>89.340783</td>\n",
       "      <td>4.830875</td>\n",
       "      <td>0.193514</td>\n",
       "      <td>1.694007</td>\n",
       "      <td>11.073038</td>\n",
       "      <td>7.279168</td>\n",
       "      <td>2.466109</td>\n",
       "      <td>0.095348</td>\n",
       "      <td>6.031967</td>\n",
       "      <td>7.105426</td>\n",
       "      <td>1.832985</td>\n",
       "      <td>4.871004</td>\n",
       "      <td>4.888852</td>\n",
       "      <td>6.260196</td>\n",
       "      <td>6.048746</td>\n",
       "      <td>0.287022</td>\n",
       "    </tr>\n",
       "    <tr>\n",
       "      <th>min</th>\n",
       "      <td>-0.060000</td>\n",
       "      <td>0.000000</td>\n",
       "      <td>-7.840000</td>\n",
       "      <td>0.000000</td>\n",
       "      <td>0.200000</td>\n",
       "      <td>979.250000</td>\n",
       "      <td>-6.460000</td>\n",
       "      <td>1.480000</td>\n",
       "      <td>0.430000</td>\n",
       "      <td>-8.880000</td>\n",
       "      <td>-4.110000</td>\n",
       "      <td>0.000000</td>\n",
       "      <td>-5.640000</td>\n",
       "      <td>-5.640000</td>\n",
       "      <td>-0.810000</td>\n",
       "      <td>-8.880000</td>\n",
       "      <td>0.000000</td>\n",
       "    </tr>\n",
       "    <tr>\n",
       "      <th>25%</th>\n",
       "      <td>9.502500</td>\n",
       "      <td>120.500000</td>\n",
       "      <td>3.180000</td>\n",
       "      <td>0.350000</td>\n",
       "      <td>2.370000</td>\n",
       "      <td>1007.435000</td>\n",
       "      <td>7.032500</td>\n",
       "      <td>10.327500</td>\n",
       "      <td>0.720000</td>\n",
       "      <td>1.522500</td>\n",
       "      <td>7.332500</td>\n",
       "      <td>1.000000</td>\n",
       "      <td>3.990000</td>\n",
       "      <td>3.705000</td>\n",
       "      <td>9.212500</td>\n",
       "      <td>1.105000</td>\n",
       "      <td>0.260000</td>\n",
       "    </tr>\n",
       "    <tr>\n",
       "      <th>50%</th>\n",
       "      <td>12.625000</td>\n",
       "      <td>219.000000</td>\n",
       "      <td>6.380000</td>\n",
       "      <td>0.470000</td>\n",
       "      <td>3.440000</td>\n",
       "      <td>1014.615000</td>\n",
       "      <td>12.470000</td>\n",
       "      <td>11.970000</td>\n",
       "      <td>0.790000</td>\n",
       "      <td>5.315000</td>\n",
       "      <td>12.625000</td>\n",
       "      <td>2.000000</td>\n",
       "      <td>7.540000</td>\n",
       "      <td>7.100000</td>\n",
       "      <td>12.470000</td>\n",
       "      <td>4.885000</td>\n",
       "      <td>0.500000</td>\n",
       "    </tr>\n",
       "    <tr>\n",
       "      <th>75%</th>\n",
       "      <td>17.920000</td>\n",
       "      <td>255.000000</td>\n",
       "      <td>10.057500</td>\n",
       "      <td>0.600000</td>\n",
       "      <td>4.577500</td>\n",
       "      <td>1021.755000</td>\n",
       "      <td>17.910000</td>\n",
       "      <td>12.830000</td>\n",
       "      <td>0.860000</td>\n",
       "      <td>11.467500</td>\n",
       "      <td>17.920000</td>\n",
       "      <td>4.000000</td>\n",
       "      <td>11.467500</td>\n",
       "      <td>11.277500</td>\n",
       "      <td>17.910000</td>\n",
       "      <td>11.277500</td>\n",
       "      <td>0.750000</td>\n",
       "    </tr>\n",
       "    <tr>\n",
       "      <th>max</th>\n",
       "      <td>32.400000</td>\n",
       "      <td>359.000000</td>\n",
       "      <td>17.770000</td>\n",
       "      <td>1.000000</td>\n",
       "      <td>9.960000</td>\n",
       "      <td>1040.920000</td>\n",
       "      <td>32.420000</td>\n",
       "      <td>15.340000</td>\n",
       "      <td>0.980000</td>\n",
       "      <td>20.540000</td>\n",
       "      <td>32.420000</td>\n",
       "      <td>7.000000</td>\n",
       "      <td>20.540000</td>\n",
       "      <td>20.540000</td>\n",
       "      <td>32.400000</td>\n",
       "      <td>20.540000</td>\n",
       "      <td>0.990000</td>\n",
       "    </tr>\n",
       "  </tbody>\n",
       "</table>\n",
       "</div>"
      ],
      "text/plain": [
       "       temperatureMax  windBearing    dewPoint  cloudCover   windSpeed  \\\n",
       "count      882.000000   882.000000  882.000000  881.000000  882.000000   \n",
       "mean        13.660113   195.702948    6.530034    0.477605    3.581803   \n",
       "std          6.182744    89.340783    4.830875    0.193514    1.694007   \n",
       "min         -0.060000     0.000000   -7.840000    0.000000    0.200000   \n",
       "25%          9.502500   120.500000    3.180000    0.350000    2.370000   \n",
       "50%         12.625000   219.000000    6.380000    0.470000    3.440000   \n",
       "75%         17.920000   255.000000   10.057500    0.600000    4.577500   \n",
       "max         32.400000   359.000000   17.770000    1.000000    9.960000   \n",
       "\n",
       "          pressure  apparentTemperatureHigh  visibility    humidity  \\\n",
       "count   882.000000               882.000000  882.000000  882.000000   \n",
       "mean   1014.127540                12.723866   11.167143    0.781871   \n",
       "std      11.073038                 7.279168    2.466109    0.095348   \n",
       "min     979.250000                -6.460000    1.480000    0.430000   \n",
       "25%    1007.435000                 7.032500   10.327500    0.720000   \n",
       "50%    1014.615000                12.470000   11.970000    0.790000   \n",
       "75%    1021.755000                17.910000   12.830000    0.860000   \n",
       "max    1040.920000                32.420000   15.340000    0.980000   \n",
       "\n",
       "       apparentTemperatureLow  apparentTemperatureMax     uvIndex  \\\n",
       "count              882.000000              882.000000  881.000000   \n",
       "mean                 6.085045               12.929467    2.542565   \n",
       "std                  6.031967                7.105426    1.832985   \n",
       "min                 -8.880000               -4.110000    0.000000   \n",
       "25%                  1.522500                7.332500    1.000000   \n",
       "50%                  5.315000               12.625000    2.000000   \n",
       "75%                 11.467500               17.920000    4.000000   \n",
       "max                 20.540000               32.420000    7.000000   \n",
       "\n",
       "       temperatureLow  temperatureMin  temperatureHigh  \\\n",
       "count      882.000000      882.000000       882.000000   \n",
       "mean         7.709841        7.414161        13.542392   \n",
       "std          4.871004        4.888852         6.260196   \n",
       "min         -5.640000       -5.640000        -0.810000   \n",
       "25%          3.990000        3.705000         9.212500   \n",
       "50%          7.540000        7.100000        12.470000   \n",
       "75%         11.467500       11.277500        17.910000   \n",
       "max         20.540000       20.540000        32.400000   \n",
       "\n",
       "       apparentTemperatureMin   moonPhase  \n",
       "count              882.000000  882.000000  \n",
       "mean                 5.738039    0.500930  \n",
       "std                  6.048746    0.287022  \n",
       "min                 -8.880000    0.000000  \n",
       "25%                  1.105000    0.260000  \n",
       "50%                  4.885000    0.500000  \n",
       "75%                 11.277500    0.750000  \n",
       "max                 20.540000    0.990000  "
      ]
     },
     "execution_count": 30,
     "metadata": {},
     "output_type": "execute_result"
    }
   ],
   "source": [
    "weather_data.describe()"
   ]
  },
  {
   "cell_type": "code",
   "execution_count": 31,
   "metadata": {},
   "outputs": [
    {
     "data": {
      "text/plain": [
       "Index(['temperatureMax', 'temperatureMaxTime', 'windBearing', 'icon',\n",
       "       'dewPoint', 'temperatureMinTime', 'cloudCover', 'windSpeed', 'pressure',\n",
       "       'apparentTemperatureMinTime', 'apparentTemperatureHigh', 'precipType',\n",
       "       'visibility', 'humidity', 'apparentTemperatureHighTime',\n",
       "       'apparentTemperatureLow', 'apparentTemperatureMax', 'uvIndex', 'time',\n",
       "       'sunsetTime', 'temperatureLow', 'temperatureMin', 'temperatureHigh',\n",
       "       'sunriseTime', 'temperatureHighTime', 'uvIndexTime', 'summary',\n",
       "       'temperatureLowTime', 'apparentTemperatureMin',\n",
       "       'apparentTemperatureMaxTime', 'apparentTemperatureLowTime',\n",
       "       'moonPhase'],\n",
       "      dtype='object')"
      ]
     },
     "execution_count": 31,
     "metadata": {},
     "output_type": "execute_result"
    }
   ],
   "source": [
    "weather_data.columns"
   ]
  },
  {
   "cell_type": "code",
   "execution_count": 32,
   "metadata": {},
   "outputs": [],
   "source": [
    "# drop unnecessary features\n",
    "weather_data = weather_data.drop(['temperatureMax', 'temperatureMaxTime', 'windBearing', \n",
    "       'dewPoint', 'temperatureMinTime', 'cloudCover', 'windSpeed', 'pressure',\n",
    "       'apparentTemperatureMinTime', 'apparentTemperatureHigh', 'precipType',\n",
    "       'visibility', 'humidity', 'apparentTemperatureHighTime',\n",
    "       'apparentTemperatureLow', 'apparentTemperatureMax', 'uvIndex', \n",
    "       'sunsetTime', 'temperatureLow', 'temperatureMin', 'temperatureHigh',\n",
    "       'sunriseTime', 'temperatureHighTime', 'uvIndexTime', 'summary',\n",
    "       'temperatureLowTime', 'apparentTemperatureMin',\n",
    "       'apparentTemperatureMaxTime', 'apparentTemperatureLowTime',\n",
    "       'moonPhase']\n",
    "                               , axis=1)"
   ]
  },
  {
   "cell_type": "code",
   "execution_count": 33,
   "metadata": {},
   "outputs": [
    {
     "data": {
      "text/plain": [
       "Index(['icon', 'time'], dtype='object')"
      ]
     },
     "execution_count": 33,
     "metadata": {},
     "output_type": "execute_result"
    }
   ],
   "source": [
    "weather_data.columns"
   ]
  },
  {
   "cell_type": "code",
   "execution_count": 34,
   "metadata": {},
   "outputs": [],
   "source": [
    "weather_data['date'] = pd.to_datetime(weather_data['time'])\n",
    "weather_data['weather'] = weather_data['icon']\n",
    "\n",
    "weather_data = weather_data.drop(['time'], axis=1)\n",
    "weather_data = weather_data.drop(['icon'], axis=1)"
   ]
  },
  {
   "cell_type": "code",
   "execution_count": 35,
   "metadata": {},
   "outputs": [
    {
     "data": {
      "text/html": [
       "<div>\n",
       "<style scoped>\n",
       "    .dataframe tbody tr th:only-of-type {\n",
       "        vertical-align: middle;\n",
       "    }\n",
       "\n",
       "    .dataframe tbody tr th {\n",
       "        vertical-align: top;\n",
       "    }\n",
       "\n",
       "    .dataframe thead th {\n",
       "        text-align: right;\n",
       "    }\n",
       "</style>\n",
       "<table border=\"1\" class=\"dataframe\">\n",
       "  <thead>\n",
       "    <tr style=\"text-align: right;\">\n",
       "      <th></th>\n",
       "      <th>date</th>\n",
       "      <th>weather</th>\n",
       "    </tr>\n",
       "  </thead>\n",
       "  <tbody>\n",
       "    <tr>\n",
       "      <th>0</th>\n",
       "      <td>2011-11-11</td>\n",
       "      <td>fog</td>\n",
       "    </tr>\n",
       "    <tr>\n",
       "      <th>1</th>\n",
       "      <td>2011-12-11</td>\n",
       "      <td>partly-cloudy-day</td>\n",
       "    </tr>\n",
       "    <tr>\n",
       "      <th>2</th>\n",
       "      <td>2011-12-27</td>\n",
       "      <td>partly-cloudy-day</td>\n",
       "    </tr>\n",
       "  </tbody>\n",
       "</table>\n",
       "</div>"
      ],
      "text/plain": [
       "        date            weather\n",
       "0 2011-11-11                fog\n",
       "1 2011-12-11  partly-cloudy-day\n",
       "2 2011-12-27  partly-cloudy-day"
      ]
     },
     "execution_count": 35,
     "metadata": {},
     "output_type": "execute_result"
    }
   ],
   "source": [
    "weather_data.head(3)"
   ]
  },
  {
   "cell_type": "code",
   "execution_count": 36,
   "metadata": {},
   "outputs": [
    {
     "data": {
      "text/plain": [
       "partly-cloudy-day      619\n",
       "wind                   124\n",
       "fog                     91\n",
       "partly-cloudy-night     33\n",
       "cloudy                   9\n",
       "clear-day                6\n",
       "Name: weather, dtype: int64"
      ]
     },
     "execution_count": 36,
     "metadata": {},
     "output_type": "execute_result"
    }
   ],
   "source": [
    "weather_data['weather'].value_counts()"
   ]
  },
  {
   "cell_type": "code",
   "execution_count": 37,
   "metadata": {},
   "outputs": [
    {
     "name": "stderr",
     "output_type": "stream",
     "text": [
      "/home/chqdrian/anaconda3/lib/python3.9/site-packages/seaborn/_decorators.py:36: FutureWarning: Pass the following variable as a keyword arg: x. From version 0.12, the only valid positional argument will be `data`, and passing other arguments without an explicit keyword will result in an error or misinterpretation.\n",
      "  warnings.warn(\n"
     ]
    },
    {
     "data": {
      "text/plain": [
       "Text(0.5, 1.0, 'Frequency of Data for each weather type')"
      ]
     },
     "execution_count": 37,
     "metadata": {},
     "output_type": "execute_result"
    },
    {
     "data": {
      "image/png": "[encoded data removed]",
      "text/plain": [
       "<Figure size 576x360 with 1 Axes>"
      ]
     },
     "metadata": {},
     "output_type": "display_data"
    }
   ],
   "source": [
    "plt.figure(figsize=(8,5))\n",
    "ax = sns.countplot('weather', data=weather_data)\n",
    "ax.set_xticklabels(ax.get_xticklabels(), rotation=40, ha=\"right\")\n",
    "plt.title('Frequency of Data for each weather type', fontsize=15)"
   ]
  },
  {
   "cell_type": "code",
   "execution_count": 38,
   "metadata": {},
   "outputs": [
    {
     "name": "stdout",
     "output_type": "stream",
     "text": [
      "Weather dataset contains 0 missing values, which is 0.0 % of whole data.\n"
     ]
    }
   ],
   "source": [
    "mv  = weather_data.isnull().sum().sum()\n",
    "prop = round(((mv/weather_data.shape[0]) * 100),3)\n",
    "print(f'Weather dataset contains {mv} missing values, which is {prop} % of whole data.')"
   ]
  },
  {
   "cell_type": "markdown",
   "metadata": {},
   "source": [
    "### Demographic data"
   ]
  },
  {
   "cell_type": "code",
   "execution_count": 39,
   "metadata": {},
   "outputs": [
    {
     "data": {
      "text/html": [
       "<div>\n",
       "<style scoped>\n",
       "    .dataframe tbody tr th:only-of-type {\n",
       "        vertical-align: middle;\n",
       "    }\n",
       "\n",
       "    .dataframe tbody tr th {\n",
       "        vertical-align: top;\n",
       "    }\n",
       "\n",
       "    .dataframe thead th {\n",
       "        text-align: right;\n",
       "    }\n",
       "</style>\n",
       "<table border=\"1\" class=\"dataframe\">\n",
       "  <thead>\n",
       "    <tr style=\"text-align: right;\">\n",
       "      <th></th>\n",
       "      <th>LCLid</th>\n",
       "      <th>stdorToU</th>\n",
       "      <th>Acorn</th>\n",
       "      <th>Acorn_grouped</th>\n",
       "      <th>file</th>\n",
       "    </tr>\n",
       "  </thead>\n",
       "  <tbody>\n",
       "    <tr>\n",
       "      <th>0</th>\n",
       "      <td>MAC005492</td>\n",
       "      <td>ToU</td>\n",
       "      <td>ACORN-</td>\n",
       "      <td>ACORN-</td>\n",
       "      <td>block_0</td>\n",
       "    </tr>\n",
       "    <tr>\n",
       "      <th>1</th>\n",
       "      <td>MAC001074</td>\n",
       "      <td>ToU</td>\n",
       "      <td>ACORN-</td>\n",
       "      <td>ACORN-</td>\n",
       "      <td>block_0</td>\n",
       "    </tr>\n",
       "    <tr>\n",
       "      <th>2</th>\n",
       "      <td>MAC000002</td>\n",
       "      <td>Std</td>\n",
       "      <td>ACORN-A</td>\n",
       "      <td>Affluent</td>\n",
       "      <td>block_0</td>\n",
       "    </tr>\n",
       "    <tr>\n",
       "      <th>3</th>\n",
       "      <td>MAC003613</td>\n",
       "      <td>Std</td>\n",
       "      <td>ACORN-A</td>\n",
       "      <td>Affluent</td>\n",
       "      <td>block_0</td>\n",
       "    </tr>\n",
       "    <tr>\n",
       "      <th>4</th>\n",
       "      <td>MAC003597</td>\n",
       "      <td>Std</td>\n",
       "      <td>ACORN-A</td>\n",
       "      <td>Affluent</td>\n",
       "      <td>block_0</td>\n",
       "    </tr>\n",
       "    <tr>\n",
       "      <th>...</th>\n",
       "      <td>...</td>\n",
       "      <td>...</td>\n",
       "      <td>...</td>\n",
       "      <td>...</td>\n",
       "      <td>...</td>\n",
       "    </tr>\n",
       "    <tr>\n",
       "      <th>5561</th>\n",
       "      <td>MAC002056</td>\n",
       "      <td>Std</td>\n",
       "      <td>ACORN-U</td>\n",
       "      <td>ACORN-U</td>\n",
       "      <td>block_111</td>\n",
       "    </tr>\n",
       "    <tr>\n",
       "      <th>5562</th>\n",
       "      <td>MAC004587</td>\n",
       "      <td>Std</td>\n",
       "      <td>ACORN-U</td>\n",
       "      <td>ACORN-U</td>\n",
       "      <td>block_111</td>\n",
       "    </tr>\n",
       "    <tr>\n",
       "      <th>5563</th>\n",
       "      <td>MAC004828</td>\n",
       "      <td>Std</td>\n",
       "      <td>ACORN-U</td>\n",
       "      <td>ACORN-U</td>\n",
       "      <td>block_111</td>\n",
       "    </tr>\n",
       "    <tr>\n",
       "      <th>5564</th>\n",
       "      <td>MAC001704</td>\n",
       "      <td>ToU</td>\n",
       "      <td>ACORN-U</td>\n",
       "      <td>ACORN-U</td>\n",
       "      <td>block_111</td>\n",
       "    </tr>\n",
       "    <tr>\n",
       "      <th>5565</th>\n",
       "      <td>MAC002774</td>\n",
       "      <td>ToU</td>\n",
       "      <td>ACORN-U</td>\n",
       "      <td>ACORN-U</td>\n",
       "      <td>block_111</td>\n",
       "    </tr>\n",
       "  </tbody>\n",
       "</table>\n",
       "<p>5566 rows × 5 columns</p>\n",
       "</div>"
      ],
      "text/plain": [
       "          LCLid stdorToU    Acorn Acorn_grouped       file\n",
       "0     MAC005492      ToU   ACORN-        ACORN-    block_0\n",
       "1     MAC001074      ToU   ACORN-        ACORN-    block_0\n",
       "2     MAC000002      Std  ACORN-A      Affluent    block_0\n",
       "3     MAC003613      Std  ACORN-A      Affluent    block_0\n",
       "4     MAC003597      Std  ACORN-A      Affluent    block_0\n",
       "...         ...      ...      ...           ...        ...\n",
       "5561  MAC002056      Std  ACORN-U       ACORN-U  block_111\n",
       "5562  MAC004587      Std  ACORN-U       ACORN-U  block_111\n",
       "5563  MAC004828      Std  ACORN-U       ACORN-U  block_111\n",
       "5564  MAC001704      ToU  ACORN-U       ACORN-U  block_111\n",
       "5565  MAC002774      ToU  ACORN-U       ACORN-U  block_111\n",
       "\n",
       "[5566 rows x 5 columns]"
      ]
     },
     "execution_count": 39,
     "metadata": {},
     "output_type": "execute_result"
    }
   ],
   "source": [
    "demographic_data"
   ]
  },
  {
   "cell_type": "code",
   "execution_count": 40,
   "metadata": {},
   "outputs": [
    {
     "data": {
      "text/plain": [
       "Index(['LCLid', 'stdorToU', 'Acorn', 'Acorn_grouped', 'file'], dtype='object')"
      ]
     },
     "execution_count": 40,
     "metadata": {},
     "output_type": "execute_result"
    }
   ],
   "source": [
    "demographic_data.columns"
   ]
  },
  {
   "cell_type": "code",
   "execution_count": 41,
   "metadata": {},
   "outputs": [],
   "source": [
    "# drop unnecessary features\n",
    "demographic_data = demographic_data.drop(['stdorToU', 'Acorn', 'file'], axis=1)"
   ]
  },
  {
   "cell_type": "code",
   "execution_count": 42,
   "metadata": {},
   "outputs": [],
   "source": [
    "demographic_data.rename(columns={'Acorn_grouped': 'Demographic'}, inplace=True)"
   ]
  },
  {
   "cell_type": "code",
   "execution_count": 43,
   "metadata": {},
   "outputs": [
    {
     "data": {
      "text/plain": [
       "Affluent       2192\n",
       "Adversity      1816\n",
       "Comfortable    1507\n",
       "ACORN-U          49\n",
       "ACORN-            2\n",
       "Name: Demographic, dtype: int64"
      ]
     },
     "execution_count": 43,
     "metadata": {},
     "output_type": "execute_result"
    }
   ],
   "source": [
    "demographic_data['Demographic'].value_counts()"
   ]
  },
  {
   "cell_type": "code",
   "execution_count": 44,
   "metadata": {},
   "outputs": [
    {
     "name": "stdout",
     "output_type": "stream",
     "text": [
      "Demographic dataset contains 0 missing values, which is 0.0 % of whole data.\n"
     ]
    }
   ],
   "source": [
    "mv  = demographic_data.isnull().sum().sum()\n",
    "prop = round(((mv/demographic_data.shape[0]) * 100),3)\n",
    "print(f'Demographic dataset contains {mv} missing values, which is {prop} % of whole data.')"
   ]
  },
  {
   "cell_type": "code",
   "execution_count": null,
   "metadata": {},
   "outputs": [],
   "source": []
  },
  {
   "cell_type": "code",
   "execution_count": 45,
   "metadata": {},
   "outputs": [],
   "source": [
    "merged_data = pd.merge(energy_data, weather_data, how='left', left_on=['date'], right_on=['date'])"
   ]
  },
  {
   "cell_type": "code",
   "execution_count": 46,
   "metadata": {},
   "outputs": [],
   "source": [
    "merged_data = pd.merge(merged_data, demographic_data, how='left', left_on=['LCLid'], right_on=['LCLid'])"
   ]
  },
  {
   "cell_type": "code",
   "execution_count": 47,
   "metadata": {},
   "outputs": [
    {
     "data": {
      "text/html": [
       "<div>\n",
       "<style scoped>\n",
       "    .dataframe tbody tr th:only-of-type {\n",
       "        vertical-align: middle;\n",
       "    }\n",
       "\n",
       "    .dataframe tbody tr th {\n",
       "        vertical-align: top;\n",
       "    }\n",
       "\n",
       "    .dataframe thead th {\n",
       "        text-align: right;\n",
       "    }\n",
       "</style>\n",
       "<table border=\"1\" class=\"dataframe\">\n",
       "  <thead>\n",
       "    <tr style=\"text-align: right;\">\n",
       "      <th></th>\n",
       "      <th>LCLid</th>\n",
       "      <th>day</th>\n",
       "      <th>energy_mean</th>\n",
       "      <th>date</th>\n",
       "      <th>year</th>\n",
       "      <th>month</th>\n",
       "      <th>weather</th>\n",
       "      <th>Demographic</th>\n",
       "    </tr>\n",
       "  </thead>\n",
       "  <tbody>\n",
       "    <tr>\n",
       "      <th>0</th>\n",
       "      <td>MAC000131</td>\n",
       "      <td>Thursday</td>\n",
       "      <td>0.432045</td>\n",
       "      <td>2011-12-15</td>\n",
       "      <td>2011</td>\n",
       "      <td>December</td>\n",
       "      <td>wind</td>\n",
       "      <td>Affluent</td>\n",
       "    </tr>\n",
       "    <tr>\n",
       "      <th>1</th>\n",
       "      <td>MAC000131</td>\n",
       "      <td>Friday</td>\n",
       "      <td>0.296167</td>\n",
       "      <td>2011-12-16</td>\n",
       "      <td>2011</td>\n",
       "      <td>December</td>\n",
       "      <td>partly-cloudy-day</td>\n",
       "      <td>Affluent</td>\n",
       "    </tr>\n",
       "    <tr>\n",
       "      <th>2</th>\n",
       "      <td>MAC000131</td>\n",
       "      <td>Saturday</td>\n",
       "      <td>0.189812</td>\n",
       "      <td>2011-12-17</td>\n",
       "      <td>2011</td>\n",
       "      <td>December</td>\n",
       "      <td>partly-cloudy-day</td>\n",
       "      <td>Affluent</td>\n",
       "    </tr>\n",
       "    <tr>\n",
       "      <th>3</th>\n",
       "      <td>MAC000131</td>\n",
       "      <td>Sunday</td>\n",
       "      <td>0.218979</td>\n",
       "      <td>2011-12-18</td>\n",
       "      <td>2011</td>\n",
       "      <td>December</td>\n",
       "      <td>partly-cloudy-day</td>\n",
       "      <td>Affluent</td>\n",
       "    </tr>\n",
       "    <tr>\n",
       "      <th>4</th>\n",
       "      <td>MAC000131</td>\n",
       "      <td>Monday</td>\n",
       "      <td>0.325979</td>\n",
       "      <td>2011-12-19</td>\n",
       "      <td>2011</td>\n",
       "      <td>December</td>\n",
       "      <td>partly-cloudy-day</td>\n",
       "      <td>Affluent</td>\n",
       "    </tr>\n",
       "    <tr>\n",
       "      <th>...</th>\n",
       "      <td>...</td>\n",
       "      <td>...</td>\n",
       "      <td>...</td>\n",
       "      <td>...</td>\n",
       "      <td>...</td>\n",
       "      <td>...</td>\n",
       "      <td>...</td>\n",
       "      <td>...</td>\n",
       "    </tr>\n",
       "    <tr>\n",
       "      <th>3510398</th>\n",
       "      <td>MAC004977</td>\n",
       "      <td>Monday</td>\n",
       "      <td>0.118458</td>\n",
       "      <td>2014-02-24</td>\n",
       "      <td>2014</td>\n",
       "      <td>February</td>\n",
       "      <td>wind</td>\n",
       "      <td>Affluent</td>\n",
       "    </tr>\n",
       "    <tr>\n",
       "      <th>3510399</th>\n",
       "      <td>MAC004977</td>\n",
       "      <td>Tuesday</td>\n",
       "      <td>0.084208</td>\n",
       "      <td>2014-02-25</td>\n",
       "      <td>2014</td>\n",
       "      <td>February</td>\n",
       "      <td>partly-cloudy-day</td>\n",
       "      <td>Affluent</td>\n",
       "    </tr>\n",
       "    <tr>\n",
       "      <th>3510400</th>\n",
       "      <td>MAC004977</td>\n",
       "      <td>Wednesday</td>\n",
       "      <td>0.120500</td>\n",
       "      <td>2014-02-26</td>\n",
       "      <td>2014</td>\n",
       "      <td>February</td>\n",
       "      <td>partly-cloudy-day</td>\n",
       "      <td>Affluent</td>\n",
       "    </tr>\n",
       "    <tr>\n",
       "      <th>3510401</th>\n",
       "      <td>MAC004977</td>\n",
       "      <td>Thursday</td>\n",
       "      <td>0.114062</td>\n",
       "      <td>2014-02-27</td>\n",
       "      <td>2014</td>\n",
       "      <td>February</td>\n",
       "      <td>partly-cloudy-day</td>\n",
       "      <td>Affluent</td>\n",
       "    </tr>\n",
       "    <tr>\n",
       "      <th>3510402</th>\n",
       "      <td>MAC004977</td>\n",
       "      <td>Friday</td>\n",
       "      <td>0.097000</td>\n",
       "      <td>2014-02-28</td>\n",
       "      <td>2014</td>\n",
       "      <td>February</td>\n",
       "      <td>partly-cloudy-day</td>\n",
       "      <td>Affluent</td>\n",
       "    </tr>\n",
       "  </tbody>\n",
       "</table>\n",
       "<p>3510403 rows × 8 columns</p>\n",
       "</div>"
      ],
      "text/plain": [
       "             LCLid        day  energy_mean       date  year     month  \\\n",
       "0        MAC000131   Thursday     0.432045 2011-12-15  2011  December   \n",
       "1        MAC000131     Friday     0.296167 2011-12-16  2011  December   \n",
       "2        MAC000131   Saturday     0.189812 2011-12-17  2011  December   \n",
       "3        MAC000131     Sunday     0.218979 2011-12-18  2011  December   \n",
       "4        MAC000131     Monday     0.325979 2011-12-19  2011  December   \n",
       "...            ...        ...          ...        ...   ...       ...   \n",
       "3510398  MAC004977     Monday     0.118458 2014-02-24  2014  February   \n",
       "3510399  MAC004977    Tuesday     0.084208 2014-02-25  2014  February   \n",
       "3510400  MAC004977  Wednesday     0.120500 2014-02-26  2014  February   \n",
       "3510401  MAC004977   Thursday     0.114062 2014-02-27  2014  February   \n",
       "3510402  MAC004977     Friday     0.097000 2014-02-28  2014  February   \n",
       "\n",
       "                   weather Demographic  \n",
       "0                     wind    Affluent  \n",
       "1        partly-cloudy-day    Affluent  \n",
       "2        partly-cloudy-day    Affluent  \n",
       "3        partly-cloudy-day    Affluent  \n",
       "4        partly-cloudy-day    Affluent  \n",
       "...                    ...         ...  \n",
       "3510398               wind    Affluent  \n",
       "3510399  partly-cloudy-day    Affluent  \n",
       "3510400  partly-cloudy-day    Affluent  \n",
       "3510401  partly-cloudy-day    Affluent  \n",
       "3510402  partly-cloudy-day    Affluent  \n",
       "\n",
       "[3510403 rows x 8 columns]"
      ]
     },
     "execution_count": 47,
     "metadata": {},
     "output_type": "execute_result"
    }
   ],
   "source": [
    "merged_data"
   ]
  },
  {
   "cell_type": "code",
   "execution_count": 48,
   "metadata": {},
   "outputs": [
    {
     "name": "stderr",
     "output_type": "stream",
     "text": [
      "/home/chqdrian/anaconda3/lib/python3.9/site-packages/seaborn/_decorators.py:36: FutureWarning: Pass the following variable as a keyword arg: x. From version 0.12, the only valid positional argument will be `data`, and passing other arguments without an explicit keyword will result in an error or misinterpretation.\n",
      "  warnings.warn(\n"
     ]
    },
    {
     "data": {
      "text/plain": [
       "Text(0.5, 1.0, 'Frequency of Data for each demographic')"
      ]
     },
     "execution_count": 48,
     "metadata": {},
     "output_type": "execute_result"
    },
    {
     "data": {
      "image/png": "[encoded data removed]",
      "text/plain": [
       "<Figure size 576x360 with 1 Axes>"
      ]
     },
     "metadata": {},
     "output_type": "display_data"
    }
   ],
   "source": [
    "plt.figure(figsize=(8,5))\n",
    "ax = sns.countplot('Demographic', data=merged_data)\n",
    "ax.set_xticklabels(ax.get_xticklabels(), rotation=40, ha=\"right\")\n",
    "plt.title('Frequency of Data for each demographic', fontsize=15)"
   ]
  },
  {
   "cell_type": "code",
   "execution_count": 49,
   "metadata": {},
   "outputs": [
    {
     "name": "stderr",
     "output_type": "stream",
     "text": [
      "/home/chqdrian/anaconda3/lib/python3.9/site-packages/seaborn/_decorators.py:36: FutureWarning: Pass the following variable as a keyword arg: x. From version 0.12, the only valid positional argument will be `data`, and passing other arguments without an explicit keyword will result in an error or misinterpretation.\n",
      "  warnings.warn(\n"
     ]
    },
    {
     "data": {
      "text/plain": [
       "Text(0.5, 1.0, 'Frequency of Data for each weather type')"
      ]
     },
     "execution_count": 49,
     "metadata": {},
     "output_type": "execute_result"
    },
    {
     "data": {
      "image/png": "[encoded data removed]",
      "text/plain": [
       "<Figure size 576x360 with 1 Axes>"
      ]
     },
     "metadata": {},
     "output_type": "display_data"
    }
   ],
   "source": [
    "plt.figure(figsize=(8,5))\n",
    "ax = sns.countplot('weather', data=merged_data)\n",
    "ax.set_xticklabels(ax.get_xticklabels(), rotation=40, ha=\"right\")\n",
    "plt.title('Frequency of Data for each weather type', fontsize=15)"
   ]
  },
  {
   "cell_type": "code",
   "execution_count": 50,
   "metadata": {},
   "outputs": [
    {
     "name": "stderr",
     "output_type": "stream",
     "text": [
      "/home/chqdrian/anaconda3/lib/python3.9/site-packages/seaborn/_decorators.py:36: FutureWarning: Pass the following variable as a keyword arg: x. From version 0.12, the only valid positional argument will be `data`, and passing other arguments without an explicit keyword will result in an error or misinterpretation.\n",
      "  warnings.warn(\n"
     ]
    },
    {
     "data": {
      "text/plain": [
       "<AxesSubplot:xlabel='energy_mean', ylabel='weather'>"
      ]
     },
     "execution_count": 50,
     "metadata": {},
     "output_type": "execute_result"
    },
    {
     "data": {
      "image/png": "[encoded data removed]",
      "text/plain": [
       "<Figure size 432x288 with 1 Axes>"
      ]
     },
     "metadata": {},
     "output_type": "display_data"
    }
   ],
   "source": [
    "sns.boxplot(merged_data['energy_mean'], y=merged_data['weather'], orient='h')"
   ]
  },
  {
   "cell_type": "code",
   "execution_count": 51,
   "metadata": {},
   "outputs": [
    {
     "name": "stdout",
     "output_type": "stream",
     "text": [
      "<class 'pandas.core.frame.DataFrame'>\n",
      "Int64Index: 3510403 entries, 0 to 3510402\n",
      "Data columns (total 8 columns):\n",
      " #   Column       Dtype         \n",
      "---  ------       -----         \n",
      " 0   LCLid        object        \n",
      " 1   day          object        \n",
      " 2   energy_mean  float64       \n",
      " 3   date         datetime64[ns]\n",
      " 4   year         int64         \n",
      " 5   month        object        \n",
      " 6   weather      object        \n",
      " 7   Demographic  object        \n",
      "dtypes: datetime64[ns](1), float64(1), int64(1), object(5)\n",
      "memory usage: 241.0+ MB\n"
     ]
    }
   ],
   "source": [
    "merged_data.info()"
   ]
  },
  {
   "cell_type": "code",
   "execution_count": 52,
   "metadata": {},
   "outputs": [
    {
     "name": "stdout",
     "output_type": "stream",
     "text": [
      "Merged dataset contains 1963480 missing values\n"
     ]
    }
   ],
   "source": [
    "mv  = merged_data.isnull().sum().sum()\n",
    "prop = round(((mv/merged_data.shape[0]) * 100),3)\n",
    "print(f'Merged dataset contains {mv} missing values')"
   ]
  },
  {
   "cell_type": "code",
   "execution_count": 53,
   "metadata": {},
   "outputs": [
    {
     "data": {
      "text/plain": [
       "LCLid                0\n",
       "day                  0\n",
       "energy_mean          0\n",
       "date                 0\n",
       "year                 0\n",
       "month                0\n",
       "weather        1963480\n",
       "Demographic          0\n",
       "dtype: int64"
      ]
     },
     "execution_count": 53,
     "metadata": {},
     "output_type": "execute_result"
    }
   ],
   "source": [
    "merged_data.isnull().sum()"
   ]
  },
  {
   "cell_type": "code",
   "execution_count": 54,
   "metadata": {},
   "outputs": [
    {
     "name": "stdout",
     "output_type": "stream",
     "text": [
      "Now the dataset contains 1546923 rows and 8 columns.\n"
     ]
    }
   ],
   "source": [
    "# let's drop those records\n",
    "merged_data.dropna(how='any', inplace=True)\n",
    "nrows, ncols = merged_data.shape\n",
    "print(f'Now the dataset contains {nrows} rows and {ncols} columns.')"
   ]
  },
  {
   "cell_type": "code",
   "execution_count": 55,
   "metadata": {},
   "outputs": [
    {
     "data": {
      "text/plain": [
       "0"
      ]
     },
     "execution_count": 55,
     "metadata": {},
     "output_type": "execute_result"
    }
   ],
   "source": [
    "merged_data.isnull().sum().sum() # check for missing values"
   ]
  },
  {
   "cell_type": "markdown",
   "metadata": {},
   "source": [
    "#### Encoding"
   ]
  },
  {
   "cell_type": "code",
   "execution_count": 56,
   "metadata": {},
   "outputs": [],
   "source": [
    "from sklearn.preprocessing import OneHotEncoder\n",
    "from sklearn.preprocessing import LabelEncoder"
   ]
  },
  {
   "cell_type": "code",
   "execution_count": 57,
   "metadata": {},
   "outputs": [
    {
     "data": {
      "text/plain": [
       "Index(['LCLid', 'day', 'energy_mean', 'date', 'year', 'month', 'weather',\n",
       "       'Demographic'],\n",
       "      dtype='object')"
      ]
     },
     "execution_count": 57,
     "metadata": {},
     "output_type": "execute_result"
    }
   ],
   "source": [
    "merged_data.columns"
   ]
  },
  {
   "cell_type": "code",
   "execution_count": 58,
   "metadata": {},
   "outputs": [],
   "source": [
    "ohe = OneHotEncoder()\n",
    "demographic = pd.DataFrame(ohe.fit_transform(merged_data[['Demographic']]).toarray(), columns=['demo_'+loc for loc in sorted(list(merged_data['Demographic'].unique()))])\n",
    "weather = pd.DataFrame(ohe.fit_transform(merged_data[['weather']]).toarray(), columns=['weather_'+loc for loc in sorted(list(merged_data['weather'].unique()))])\n",
    "month = pd.DataFrame(ohe.fit_transform(merged_data[['month']]).toarray(), columns=sorted(list(merged_data['month'].unique())))\n",
    "year = pd.DataFrame(ohe.fit_transform(merged_data[['year']]).toarray(), columns=sorted(list(merged_data['year'].unique())))\n",
    "day = pd.DataFrame(ohe.fit_transform(merged_data[['day']]).toarray(), columns=sorted(list(merged_data['day'].unique())))\n"
   ]
  },
  {
   "cell_type": "code",
   "execution_count": 59,
   "metadata": {},
   "outputs": [],
   "source": [
    "energy = pd.concat([merged_data, demographic, weather, month, year, day], axis=1)\n",
    "energy.drop(['Demographic', 'weather', 'month', 'year', 'day'], axis=1, inplace=True)"
   ]
  },
  {
   "cell_type": "code",
   "execution_count": 60,
   "metadata": {},
   "outputs": [
    {
     "data": {
      "text/plain": [
       "Index([                      'LCLid',                 'energy_mean',\n",
       "                              'date',                 'demo_ACORN-',\n",
       "                      'demo_ACORN-U',              'demo_Adversity',\n",
       "                     'demo_Affluent',            'demo_Comfortable',\n",
       "                 'weather_clear-day',              'weather_cloudy',\n",
       "                       'weather_fog',   'weather_partly-cloudy-day',\n",
       "       'weather_partly-cloudy-night',                'weather_wind',\n",
       "                          'December',                    'February',\n",
       "                           'January',                       'March',\n",
       "                          'November',                     'October',\n",
       "                                2011,                          2012,\n",
       "                                2013,                          2014,\n",
       "                            'Friday',                      'Monday',\n",
       "                          'Saturday',                      'Sunday',\n",
       "                          'Thursday',                     'Tuesday',\n",
       "                         'Wednesday'],\n",
       "      dtype='object')"
      ]
     },
     "execution_count": 60,
     "metadata": {},
     "output_type": "execute_result"
    }
   ],
   "source": [
    "energy.columns"
   ]
  },
  {
   "cell_type": "code",
   "execution_count": null,
   "metadata": {},
   "outputs": [],
   "source": [
    "# energy_le = merged_data.copy()\n",
    "\n",
    "# lb = LabelEncoder()\n",
    "\n",
    "# energy_le['Demographic'] = lb.fit_transform(merged_data['Demographic'])\n",
    "# energy_le['weather'] = lb.fit_transform(merged_data['weather'])\n",
    "# energy_le['month'] = lb.fit_transform(merged_data['month'])\n",
    "# energy_le['year'] = lb.fit_transform(merged_data['year'])\n",
    "# energy_le['day'] = lb.fit_transform(merged_data['day'])"
   ]
  },
  {
   "cell_type": "code",
   "execution_count": null,
   "metadata": {},
   "outputs": [],
   "source": [
    "# energy_le.columns"
   ]
  },
  {
   "cell_type": "code",
   "execution_count": null,
   "metadata": {},
   "outputs": [],
   "source": [
    "# energy_leX = energy_le.drop(['day', 'year', 'month', 'weather', 'Demographic'], axis=1)\n",
    "# energy_ley = energy_le['energy_mean'].copy()"
   ]
  },
  {
   "cell_type": "code",
   "execution_count": 61,
   "metadata": {},
   "outputs": [
    {
     "data": {
      "text/plain": [
       "(2415222, 31)"
      ]
     },
     "execution_count": 61,
     "metadata": {},
     "output_type": "execute_result"
    }
   ],
   "source": [
    "energy.shape"
   ]
  },
  {
   "cell_type": "code",
   "execution_count": 68,
   "metadata": {},
   "outputs": [],
   "source": [
    "energy_X = energy.drop(['energy_mean', 'date', 'LCLid'], axis=1)\n",
    "energy_y = energy['energy_mean'].copy()"
   ]
  },
  {
   "cell_type": "code",
   "execution_count": null,
   "metadata": {},
   "outputs": [],
   "source": []
  },
  {
   "cell_type": "markdown",
   "metadata": {},
   "source": [
    "## Base Model"
   ]
  },
  {
   "cell_type": "code",
   "execution_count": 69,
   "metadata": {},
   "outputs": [],
   "source": [
    "import statsmodels.api as sm"
   ]
  },
  {
   "cell_type": "code",
   "execution_count": 75,
   "metadata": {},
   "outputs": [],
   "source": [
    "x_constant = sm.add_constant(energy_X)\n",
    "energy_model = sm.OLS(energy_X, x_constant).fit()\n",
    "energy_model.summary()"
   ]
  },
  {
   "cell_type": "code",
   "execution_count": null,
   "metadata": {},
   "outputs": [],
   "source": []
  }
 ],
 "metadata": {
  "kernelspec": {
   "display_name": "Python 3 (ipykernel)",
   "language": "python",
   "name": "python3"
  },
  "language_info": {
   "codemirror_mode": {
    "name": "ipython",
    "version": 3
   },
   "file_extension": ".py",
   "mimetype": "text/x-python",
   "name": "python",
   "nbconvert_exporter": "python",
   "pygments_lexer": "ipython3",
   "version": "3.9.7"
  }
 },
 "nbformat": 4,
 "nbformat_minor": 2
}
